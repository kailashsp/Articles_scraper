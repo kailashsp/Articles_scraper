{
 "cells": [
  {
   "cell_type": "code",
   "execution_count": 1,
   "metadata": {},
   "outputs": [],
   "source": [
    "from bs4 import BeautifulSoup as bs4\n",
    "import requests\n",
    "import pandas as pd\n",
    "import os\n",
    "from tqdm import tqdm\n",
    "import sys"
   ]
  },
  {
   "cell_type": "code",
   "execution_count": null,
   "metadata": {},
   "outputs": [],
   "source": [
    "name = \"path to file\""
   ]
  },
  {
   "cell_type": "code",
   "execution_count": 2,
   "metadata": {},
   "outputs": [],
   "source": [
    "urls =  pd.read_csv(f'{name}.csv')"
   ]
  },
  {
   "cell_type": "code",
   "execution_count": 3,
   "metadata": {},
   "outputs": [
    {
     "data": {
      "text/html": [
       "<div>\n",
       "<style scoped>\n",
       "    .dataframe tbody tr th:only-of-type {\n",
       "        vertical-align: middle;\n",
       "    }\n",
       "\n",
       "    .dataframe tbody tr th {\n",
       "        vertical-align: top;\n",
       "    }\n",
       "\n",
       "    .dataframe thead th {\n",
       "        text-align: right;\n",
       "    }\n",
       "</style>\n",
       "<table border=\"1\" class=\"dataframe\">\n",
       "  <thead>\n",
       "    <tr style=\"text-align: right;\">\n",
       "      <th></th>\n",
       "      <th>title</th>\n",
       "      <th>newsId</th>\n",
       "      <th>filterTags</th>\n",
       "      <th>createdAt</th>\n",
       "      <th>newsUrl</th>\n",
       "      <th>newsIntent</th>\n",
       "      <th>newsTopics</th>\n",
       "    </tr>\n",
       "  </thead>\n",
       "  <tbody>\n",
       "    <tr>\n",
       "      <th>0</th>\n",
       "      <td>Texas maternal mortality report to show racial...</td>\n",
       "      <td>news_clbu8p6pc2icwornq4a0nemy6</td>\n",
       "      <td>[\"VALUE_BASED_CARE\"]</td>\n",
       "      <td>2022-12-19T03:30:49.009Z</td>\n",
       "      <td>https://www.chron.com/news/houston-texas/artic...</td>\n",
       "      <td>NaN</td>\n",
       "      <td>NaN</td>\n",
       "    </tr>\n",
       "    <tr>\n",
       "      <th>1</th>\n",
       "      <td>Assisted suicide laws protect the vulnerable</td>\n",
       "      <td>news_clbu8p6mf2i9iornq6l9z8aqz</td>\n",
       "      <td>[\"VALUE_BASED_CARE\"]</td>\n",
       "      <td>2022-12-19T03:30:48.904Z</td>\n",
       "      <td>https://www.washingtonpost.com/opinions/2022/1...</td>\n",
       "      <td>NaN</td>\n",
       "      <td>NaN</td>\n",
       "    </tr>\n",
       "    <tr>\n",
       "      <th>2</th>\n",
       "      <td>Medtronic has seen 23 serious medical device r...</td>\n",
       "      <td>news_clbu8p6ho2i5cornqezuhb4gz</td>\n",
       "      <td>[\"VALUE_BASED_CARE\"]</td>\n",
       "      <td>2022-12-19T03:30:48.733Z</td>\n",
       "      <td>https://www.startribune.com/medtronic-23-serio...</td>\n",
       "      <td>NaN</td>\n",
       "      <td>NaN</td>\n",
       "    </tr>\n",
       "    <tr>\n",
       "      <th>3</th>\n",
       "      <td>COVID cases surging in New York, across countr...</td>\n",
       "      <td>news_clbu8p6bd2hzfornq76i225yq</td>\n",
       "      <td>[\"VALUE_BASED_CARE\"]</td>\n",
       "      <td>2022-12-19T03:30:48.508Z</td>\n",
       "      <td>https://www.cbsnews.com/newyork/news/new-york-...</td>\n",
       "      <td>NaN</td>\n",
       "      <td>NaN</td>\n",
       "    </tr>\n",
       "    <tr>\n",
       "      <th>4</th>\n",
       "      <td>CDC investigating apparent rise in strep A inf...</td>\n",
       "      <td>news_clbu8p65n2hu0ornqbsp95k06</td>\n",
       "      <td>[\"VALUE_BASED_CARE\"]</td>\n",
       "      <td>2022-12-19T03:30:48.300Z</td>\n",
       "      <td>https://www.cnn.com/2022/12/16/health/strep-a-...</td>\n",
       "      <td>NaN</td>\n",
       "      <td>NaN</td>\n",
       "    </tr>\n",
       "  </tbody>\n",
       "</table>\n",
       "</div>"
      ],
      "text/plain": [
       "                                               title  \\\n",
       "0  Texas maternal mortality report to show racial...   \n",
       "1       Assisted suicide laws protect the vulnerable   \n",
       "2  Medtronic has seen 23 serious medical device r...   \n",
       "3  COVID cases surging in New York, across countr...   \n",
       "4  CDC investigating apparent rise in strep A inf...   \n",
       "\n",
       "                           newsId            filterTags  \\\n",
       "0  news_clbu8p6pc2icwornq4a0nemy6  [\"VALUE_BASED_CARE\"]   \n",
       "1  news_clbu8p6mf2i9iornq6l9z8aqz  [\"VALUE_BASED_CARE\"]   \n",
       "2  news_clbu8p6ho2i5cornqezuhb4gz  [\"VALUE_BASED_CARE\"]   \n",
       "3  news_clbu8p6bd2hzfornq76i225yq  [\"VALUE_BASED_CARE\"]   \n",
       "4  news_clbu8p65n2hu0ornqbsp95k06  [\"VALUE_BASED_CARE\"]   \n",
       "\n",
       "                  createdAt  \\\n",
       "0  2022-12-19T03:30:49.009Z   \n",
       "1  2022-12-19T03:30:48.904Z   \n",
       "2  2022-12-19T03:30:48.733Z   \n",
       "3  2022-12-19T03:30:48.508Z   \n",
       "4  2022-12-19T03:30:48.300Z   \n",
       "\n",
       "                                             newsUrl  newsIntent  newsTopics  \n",
       "0  https://www.chron.com/news/houston-texas/artic...         NaN         NaN  \n",
       "1  https://www.washingtonpost.com/opinions/2022/1...         NaN         NaN  \n",
       "2  https://www.startribune.com/medtronic-23-serio...         NaN         NaN  \n",
       "3  https://www.cbsnews.com/newyork/news/new-york-...         NaN         NaN  \n",
       "4  https://www.cnn.com/2022/12/16/health/strep-a-...         NaN         NaN  "
      ]
     },
     "execution_count": 3,
     "metadata": {},
     "output_type": "execute_result"
    }
   ],
   "source": [
    "urls.head()"
   ]
  },
  {
   "cell_type": "code",
   "execution_count": 5,
   "metadata": {},
   "outputs": [],
   "source": [
    "def extract(url):\n",
    "    try:\n",
    "        r = requests.get(url,headers={'User-Agent' :'Mozilla/5.0 (Macintosh; Intel Mac OS X 10_15_4) AppleWebKit/537.36 (KHTML, like Gecko) Chrohttpsme/83.0.4103.97 Safari/537.36'})\n",
    "        soup = bs4(r.content,'html.parser')\n",
    "        # print(soup)\n",
    "        return soup\n",
    "    except Exception as e:\n",
    "        print(f'Encountered error: {e}')\n",
    "        error_type, error_obj, error_info = sys.exc_info()      \n",
    "        print ('ERROR FOR LINK:',url)\n",
    "        pass\n",
    "\n",
    "    "
   ]
  },
  {
   "cell_type": "code",
   "execution_count": 6,
   "metadata": {},
   "outputs": [],
   "source": [
    "def get_max_ptags(soup):\n",
    "# Find all the div tags\n",
    "    div_tags = soup.find_all('div')\n",
    "# Create a dictionary to store the count of p tags for each class\n",
    "    class_counts = {}\n",
    "    # Iterate through the p tags and update the count for each class\n",
    "    for div in div_tags:\n",
    "        if div.get('class'):\n",
    "        # Find the number of p tags in the div\n",
    "            p_count = len(div.find_all('p'))\n",
    "            if div['class'][0] in class_counts:\n",
    "                class_counts[div['class'][0]] += p_count\n",
    "            else:\n",
    "                class_counts[div['class'][0]] = p_count\n",
    "\n",
    "# Find the class with the maximum count of p tags\n",
    "    max_class = max(class_counts, key=class_counts.get)\n",
    "    print(f\"The class with the maximum number of p tags is: {max_class}\")\n",
    "    return max_class"
   ]
  },
  {
   "cell_type": "code",
   "execution_count": 7,
   "metadata": {},
   "outputs": [],
   "source": [
    "def get_article(soup,max_class,title):\n",
    "    if not os.path.exists('news_article'):\n",
    "        os.mkdir('news_article')\n",
    "\n",
    "    paras = soup.find_all(attrs={'class':max_class})\n",
    "    for para in paras:\n",
    "        for p in para.find_all('p'):\n",
    "            with open(f'news_article/{title}.txt','a') as f:\n",
    "                if p.find(text=True,recursive=False):\n",
    "                    f.write(p.find(text=True,recursive=False)+'\\n')\n"
   ]
  },
  {
   "cell_type": "code",
   "execution_count": 11,
   "metadata": {},
   "outputs": [
    {
     "name": "stderr",
     "output_type": "stream",
     "text": [
      "1it [00:01,  1.66s/it]"
     ]
    },
    {
     "name": "stdout",
     "output_type": "stream",
     "text": [
      "The class with the maximum number of p tags is: content-wrapper\n"
     ]
    },
    {
     "name": "stderr",
     "output_type": "stream",
     "text": [
      "2it [00:13,  7.58s/it]"
     ]
    },
    {
     "name": "stdout",
     "output_type": "stream",
     "text": [
      "The class with the maximum number of p tags is: grid-layout\n"
     ]
    },
    {
     "name": "stderr",
     "output_type": "stream",
     "text": [
      "3it [00:15,  5.25s/it]"
     ]
    },
    {
     "name": "stdout",
     "output_type": "stream",
     "text": [
      "The class with the maximum number of p tags is: l-container\n"
     ]
    },
    {
     "name": "stderr",
     "output_type": "stream",
     "text": [
      "4it [00:17,  3.94s/it]"
     ]
    },
    {
     "name": "stdout",
     "output_type": "stream",
     "text": [
      "The class with the maximum number of p tags is: row\n"
     ]
    },
    {
     "name": "stderr",
     "output_type": "stream",
     "text": [
      "5it [00:20,  3.57s/it]"
     ]
    },
    {
     "name": "stdout",
     "output_type": "stream",
     "text": [
      "The class with the maximum number of p tags is: layout__content-wrapper\n"
     ]
    },
    {
     "name": "stderr",
     "output_type": "stream",
     "text": [
      "6it [00:22,  3.09s/it]"
     ]
    },
    {
     "name": "stdout",
     "output_type": "stream",
     "text": [
      "The class with the maximum number of p tags is: hfeed\n"
     ]
    },
    {
     "name": "stderr",
     "output_type": "stream",
     "text": [
      "7it [00:25,  2.93s/it]"
     ]
    },
    {
     "name": "stdout",
     "output_type": "stream",
     "text": [
      "The class with the maximum number of p tags is: App-containerClick\n"
     ]
    },
    {
     "name": "stderr",
     "output_type": "stream",
     "text": [
      "8it [00:27,  2.50s/it]"
     ]
    },
    {
     "name": "stdout",
     "output_type": "stream",
     "text": [
      "The class with the maximum number of p tags is: main\n"
     ]
    },
    {
     "name": "stderr",
     "output_type": "stream",
     "text": [
      "9it [00:29,  2.48s/it]"
     ]
    },
    {
     "name": "stdout",
     "output_type": "stream",
     "text": [
      "The class with the maximum number of p tags is: main-content\n"
     ]
    },
    {
     "name": "stderr",
     "output_type": "stream",
     "text": [
      "10it [00:41,  5.57s/it]"
     ]
    },
    {
     "name": "stdout",
     "output_type": "stream",
     "text": [
      "The class with the maximum number of p tags is: grid-layout\n"
     ]
    },
    {
     "name": "stderr",
     "output_type": "stream",
     "text": [
      "11it [00:44,  4.53s/it]"
     ]
    },
    {
     "name": "stdout",
     "output_type": "stream",
     "text": [
      "The class with the maximum number of p tags is: main-content\n"
     ]
    },
    {
     "name": "stderr",
     "output_type": "stream",
     "text": [
      "12it [00:46,  4.01s/it]"
     ]
    },
    {
     "name": "stdout",
     "output_type": "stream",
     "text": [
      "The class with the maximum number of p tags is: page-wrapper\n"
     ]
    },
    {
     "name": "stderr",
     "output_type": "stream",
     "text": [
      "13it [00:49,  3.61s/it]"
     ]
    },
    {
     "name": "stdout",
     "output_type": "stream",
     "text": [
      "The class with the maximum number of p tags is: layout-section\n"
     ]
    },
    {
     "name": "stderr",
     "output_type": "stream",
     "text": [
      "14it [00:51,  3.20s/it]"
     ]
    },
    {
     "name": "stdout",
     "output_type": "stream",
     "text": [
      "The class with the maximum number of p tags is: page-wrapper\n"
     ]
    },
    {
     "name": "stderr",
     "output_type": "stream",
     "text": [
      "15it [00:53,  2.81s/it]"
     ]
    },
    {
     "name": "stdout",
     "output_type": "stream",
     "text": [
      "The class with the maximum number of p tags is: layout-section\n"
     ]
    },
    {
     "name": "stderr",
     "output_type": "stream",
     "text": [
      "16it [00:56,  2.80s/it]"
     ]
    },
    {
     "name": "stdout",
     "output_type": "stream",
     "text": [
      "The class with the maximum number of p tags is: main-content\n"
     ]
    },
    {
     "name": "stderr",
     "output_type": "stream",
     "text": [
      "17it [00:58,  2.58s/it]"
     ]
    },
    {
     "name": "stdout",
     "output_type": "stream",
     "text": [
      "The class with the maximum number of p tags is: wrapper\n"
     ]
    },
    {
     "name": "stderr",
     "output_type": "stream",
     "text": [
      "18it [01:01,  2.63s/it]"
     ]
    },
    {
     "name": "stdout",
     "output_type": "stream",
     "text": [
      "The class with the maximum number of p tags is: main\n"
     ]
    },
    {
     "name": "stderr",
     "output_type": "stream",
     "text": [
      "19it [01:03,  2.60s/it]"
     ]
    },
    {
     "name": "stdout",
     "output_type": "stream",
     "text": [
      "The class with the maximum number of p tags is: block\n"
     ]
    },
    {
     "name": "stderr",
     "output_type": "stream",
     "text": [
      "20it [01:07,  2.89s/it]"
     ]
    },
    {
     "name": "stdout",
     "output_type": "stream",
     "text": [
      "The class with the maximum number of p tags is: page-wrapper\n"
     ]
    },
    {
     "name": "stderr",
     "output_type": "stream",
     "text": [
      "21it [01:10,  2.81s/it]"
     ]
    },
    {
     "name": "stdout",
     "output_type": "stream",
     "text": [
      "The class with the maximum number of p tags is: styles_HTMLContent__LDG2k\n"
     ]
    },
    {
     "name": "stderr",
     "output_type": "stream",
     "text": [
      "22it [01:12,  2.78s/it]"
     ]
    },
    {
     "name": "stdout",
     "output_type": "stream",
     "text": [
      "The class with the maximum number of p tags is: article-body\n"
     ]
    },
    {
     "name": "stderr",
     "output_type": "stream",
     "text": [
      "23it [01:15,  2.64s/it]"
     ]
    },
    {
     "name": "stdout",
     "output_type": "stream",
     "text": [
      "The class with the maximum number of p tags is: main-content\n"
     ]
    },
    {
     "name": "stderr",
     "output_type": "stream",
     "text": [
      "24it [01:17,  2.70s/it]"
     ]
    },
    {
     "name": "stdout",
     "output_type": "stream",
     "text": [
      "The class with the maximum number of p tags is: article-body\n"
     ]
    },
    {
     "name": "stderr",
     "output_type": "stream",
     "text": [
      "25it [01:20,  2.67s/it]"
     ]
    },
    {
     "name": "stdout",
     "output_type": "stream",
     "text": [
      "The class with the maximum number of p tags is: layout__content-wrapper\n"
     ]
    },
    {
     "name": "stderr",
     "output_type": "stream",
     "text": [
      "26it [01:22,  2.52s/it]"
     ]
    },
    {
     "name": "stdout",
     "output_type": "stream",
     "text": [
      "The class with the maximum number of p tags is: hfeed\n"
     ]
    },
    {
     "name": "stderr",
     "output_type": "stream",
     "text": [
      "27it [01:34,  5.35s/it]"
     ]
    },
    {
     "name": "stdout",
     "output_type": "stream",
     "text": [
      "The class with the maximum number of p tags is: page-wrapper\n"
     ]
    },
    {
     "name": "stderr",
     "output_type": "stream",
     "text": [
      "28it [01:38,  4.81s/it]"
     ]
    },
    {
     "name": "stdout",
     "output_type": "stream",
     "text": [
      "The class with the maximum number of p tags is: main-content\n"
     ]
    },
    {
     "name": "stderr",
     "output_type": "stream",
     "text": [
      "29it [01:40,  4.04s/it]"
     ]
    },
    {
     "name": "stdout",
     "output_type": "stream",
     "text": [
      "The class with the maximum number of p tags is: container\n"
     ]
    },
    {
     "name": "stderr",
     "output_type": "stream",
     "text": [
      "30it [01:42,  3.28s/it]"
     ]
    },
    {
     "name": "stdout",
     "output_type": "stream",
     "text": [
      "The class with the maximum number of p tags is: grid\n"
     ]
    },
    {
     "name": "stderr",
     "output_type": "stream",
     "text": [
      "31it [01:45,  3.37s/it]"
     ]
    },
    {
     "name": "stdout",
     "output_type": "stream",
     "text": [
      "The class with the maximum number of p tags is: article-body\n"
     ]
    },
    {
     "name": "stderr",
     "output_type": "stream",
     "text": [
      "32it [01:48,  3.15s/it]"
     ]
    },
    {
     "name": "stdout",
     "output_type": "stream",
     "text": [
      "The class with the maximum number of p tags is: page-ad-margins\n"
     ]
    },
    {
     "name": "stderr",
     "output_type": "stream",
     "text": [
      "33it [01:58,  5.23s/it]"
     ]
    },
    {
     "name": "stdout",
     "output_type": "stream",
     "text": [
      "The class with the maximum number of p tags is: site\n"
     ]
    },
    {
     "name": "stderr",
     "output_type": "stream",
     "text": [
      "34it [02:00,  4.25s/it]"
     ]
    },
    {
     "name": "stdout",
     "output_type": "stream",
     "text": [
      "The class with the maximum number of p tags is: mx-auto\n"
     ]
    },
    {
     "name": "stderr",
     "output_type": "stream",
     "text": [
      "35it [02:02,  3.75s/it]"
     ]
    },
    {
     "name": "stdout",
     "output_type": "stream",
     "text": [
      "The class with the maximum number of p tags is: main\n"
     ]
    },
    {
     "name": "stderr",
     "output_type": "stream",
     "text": [
      "36it [02:04,  3.11s/it]"
     ]
    },
    {
     "name": "stdout",
     "output_type": "stream",
     "text": [
      "The class with the maximum number of p tags is: comp\n"
     ]
    },
    {
     "name": "stderr",
     "output_type": "stream",
     "text": [
      "37it [02:15,  5.35s/it]"
     ]
    },
    {
     "name": "stdout",
     "output_type": "stream",
     "text": [
      "The class with the maximum number of p tags is: grid-layout\n"
     ]
    },
    {
     "name": "stderr",
     "output_type": "stream",
     "text": [
      "38it [02:16,  4.26s/it]"
     ]
    },
    {
     "name": "stdout",
     "output_type": "stream",
     "text": [
      "The class with the maximum number of p tags is: row\n"
     ]
    },
    {
     "name": "stderr",
     "output_type": "stream",
     "text": [
      "39it [02:18,  3.46s/it]"
     ]
    },
    {
     "name": "stdout",
     "output_type": "stream",
     "text": [
      "The class with the maximum number of p tags is: tn6\n"
     ]
    },
    {
     "name": "stderr",
     "output_type": "stream",
     "text": [
      "40it [02:21,  3.33s/it]"
     ]
    },
    {
     "name": "stdout",
     "output_type": "stream",
     "text": [
      "The class with the maximum number of p tags is: footer\n"
     ]
    },
    {
     "name": "stderr",
     "output_type": "stream",
     "text": [
      "41it [02:24,  3.31s/it]"
     ]
    },
    {
     "name": "stdout",
     "output_type": "stream",
     "text": [
      "The class with the maximum number of p tags is: ssrcss-181c4hk-SectionWrapper\n"
     ]
    },
    {
     "name": "stderr",
     "output_type": "stream",
     "text": [
      "42it [02:27,  3.11s/it]"
     ]
    },
    {
     "name": "stdout",
     "output_type": "stream",
     "text": [
      "The class with the maximum number of p tags is: sidepanelToggleable\n"
     ]
    },
    {
     "name": "stderr",
     "output_type": "stream",
     "text": [
      "43it [02:28,  2.58s/it]"
     ]
    },
    {
     "name": "stdout",
     "output_type": "stream",
     "text": [
      "The class with the maximum number of p tags is: wrapper\n"
     ]
    },
    {
     "name": "stderr",
     "output_type": "stream",
     "text": [
      "44it [02:31,  2.58s/it]"
     ]
    },
    {
     "name": "stdout",
     "output_type": "stream",
     "text": [
      "The class with the maximum number of p tags is: page-wrapper\n"
     ]
    },
    {
     "name": "stderr",
     "output_type": "stream",
     "text": [
      "45it [02:44,  5.64s/it]"
     ]
    },
    {
     "name": "stdout",
     "output_type": "stream",
     "text": [
      "The class with the maximum number of p tags is: grid-layout\n"
     ]
    },
    {
     "name": "stderr",
     "output_type": "stream",
     "text": [
      "46it [02:46,  4.63s/it]"
     ]
    },
    {
     "name": "stdout",
     "output_type": "stream",
     "text": [
      "The class with the maximum number of p tags is: App-containerClick\n"
     ]
    },
    {
     "name": "stderr",
     "output_type": "stream",
     "text": [
      "47it [02:48,  3.80s/it]"
     ]
    },
    {
     "name": "stdout",
     "output_type": "stream",
     "text": [
      "The class with the maximum number of p tags is: layout-section\n"
     ]
    },
    {
     "name": "stderr",
     "output_type": "stream",
     "text": [
      "48it [02:50,  3.46s/it]"
     ]
    },
    {
     "name": "stdout",
     "output_type": "stream",
     "text": [
      "The class with the maximum number of p tags is: main\n"
     ]
    },
    {
     "name": "stderr",
     "output_type": "stream",
     "text": [
      "49it [02:53,  3.26s/it]"
     ]
    },
    {
     "name": "stdout",
     "output_type": "stream",
     "text": [
      "The class with the maximum number of p tags is: row\n"
     ]
    },
    {
     "name": "stderr",
     "output_type": "stream",
     "text": [
      "50it [02:56,  3.05s/it]"
     ]
    },
    {
     "name": "stdout",
     "output_type": "stream",
     "text": [
      "The class with the maximum number of p tags is: row\n"
     ]
    },
    {
     "name": "stderr",
     "output_type": "stream",
     "text": [
      "51it [02:58,  2.86s/it]"
     ]
    },
    {
     "name": "stdout",
     "output_type": "stream",
     "text": [
      "The class with the maximum number of p tags is: page-wrapper\n"
     ]
    },
    {
     "name": "stderr",
     "output_type": "stream",
     "text": [
      "52it [03:01,  2.82s/it]"
     ]
    },
    {
     "name": "stdout",
     "output_type": "stream",
     "text": [
      "The class with the maximum number of p tags is: site-container\n"
     ]
    },
    {
     "name": "stderr",
     "output_type": "stream",
     "text": [
      "53it [03:03,  2.77s/it]"
     ]
    },
    {
     "name": "stdout",
     "output_type": "stream",
     "text": [
      "The class with the maximum number of p tags is: layout-section\n"
     ]
    },
    {
     "name": "stderr",
     "output_type": "stream",
     "text": [
      "54it [03:05,  2.42s/it]"
     ]
    },
    {
     "name": "stdout",
     "output_type": "stream",
     "text": [
      "The class with the maximum number of p tags is: version2-layout\n"
     ]
    },
    {
     "name": "stderr",
     "output_type": "stream",
     "text": [
      "55it [03:07,  2.33s/it]"
     ]
    },
    {
     "name": "stdout",
     "output_type": "stream",
     "text": [
      "The class with the maximum number of p tags is: ArticlePage-wrapper\n"
     ]
    },
    {
     "name": "stderr",
     "output_type": "stream",
     "text": [
      "56it [03:13,  3.24s/it]"
     ]
    },
    {
     "name": "stdout",
     "output_type": "stream",
     "text": [
      "The class with the maximum number of p tags is: page-wrapper\n"
     ]
    },
    {
     "name": "stderr",
     "output_type": "stream",
     "text": [
      "57it [03:15,  2.86s/it]"
     ]
    },
    {
     "name": "stdout",
     "output_type": "stream",
     "text": [
      "The class with the maximum number of p tags is: bp-mobileMDPlus\n"
     ]
    },
    {
     "name": "stderr",
     "output_type": "stream",
     "text": [
      "58it [03:17,  2.75s/it]"
     ]
    },
    {
     "name": "stdout",
     "output_type": "stream",
     "text": [
      "The class with the maximum number of p tags is: content-wrapper\n"
     ]
    },
    {
     "name": "stderr",
     "output_type": "stream",
     "text": [
      "59it [03:19,  2.67s/it]"
     ]
    },
    {
     "name": "stdout",
     "output_type": "stream",
     "text": [
      "The class with the maximum number of p tags is: page-wrapper\n"
     ]
    },
    {
     "name": "stderr",
     "output_type": "stream",
     "text": [
      "60it [03:22,  2.74s/it]"
     ]
    },
    {
     "name": "stdout",
     "output_type": "stream",
     "text": [
      "The class with the maximum number of p tags is: row\n"
     ]
    }
   ],
   "source": [
    "for i,url in enumerate(urls.itertuples()):\n",
    "    if i !=89:\n",
    "        content = extract(url.newsUrl)\n",
    "        max_cls= get_max_ptags(content)\n",
    "        try:\n",
    "            get_article(content,max_cls,i)\n",
    "        except Exception as e:\n",
    "            print(f\"encountered error : {e}\")\n",
    "\n",
    "            pass\n",
    "\n",
    "\n",
    "\n"
   ]
  }
 ],
 "metadata": {
  "kernelspec": {
   "display_name": ".venv",
   "language": "python",
   "name": "python3"
  },
  "language_info": {
   "codemirror_mode": {
    "name": "ipython",
    "version": 3
   },
   "file_extension": ".py",
   "mimetype": "text/x-python",
   "name": "python",
   "nbconvert_exporter": "python",
   "pygments_lexer": "ipython3",
   "version": "3.9.12 (main, Apr  5 2022, 06:56:58) \n[GCC 7.5.0]"
  },
  "orig_nbformat": 4,
  "vscode": {
   "interpreter": {
    "hash": "437b109085d4c18fb6ceba995daaa1173c7a551378b7b6f413ef6d607ec8f657"
   }
  }
 },
 "nbformat": 4,
 "nbformat_minor": 2
}
